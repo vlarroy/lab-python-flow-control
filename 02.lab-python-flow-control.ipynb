{
 "cells": [
  {
   "cell_type": "markdown",
   "id": "d3bfc191-8885-42ee-b0a0-bbab867c6f9f",
   "metadata": {
    "tags": []
   },
   "source": [
    "# Lab | Flow Control"
   ]
  },
  {
   "cell_type": "markdown",
   "id": "3851fcd1-cf98-4653-9c89-e003b7ec9400",
   "metadata": {},
   "source": [
    "## Exercise: Managing Customer Orders Optimized\n",
    "\n",
    "In the last lab, you were starting an online store that sells various products. To ensure smooth operations, you developed a program that manages customer orders and inventory.\n",
    "\n",
    "You did so without using flow control. Let's go a step further and improve this code.\n",
    "\n",
    "Follow the steps below to complete the exercise:\n",
    "\n",
    "1. Look at your code from the lab data structures, and improve repeated code with loops.\n",
    "\n",
    "2. Instead of asking the user to input the name of three products that a customer wants to order, do the following:\n",
    "    \n",
    "    a. Prompt the user to enter the name of a product that a customer wants to order.\n",
    "    \n",
    "    b. Add the product name to the \"customer_orders\" set.\n",
    "    \n",
    "    c. Ask the user if they want to add another product (yes/no).\n",
    "    \n",
    "    d. Continue the loop until the user does not want to add another product.\n",
    "\n",
    "3. Instead of updating the inventory by subtracting 1 from the quantity of each product, only do it for  the products that were ordered (those in \"customer_orders\")."
   ]
  },
  {
   "cell_type": "markdown",
   "id": "7aeff176",
   "metadata": {},
   "source": [
    "1. Look at your ode from the lab data structures and improve repeated code with loops.\n",
    "if done with loops already, you can skip question 1."
   ]
  },
  {
   "cell_type": "code",
   "execution_count": 2,
   "id": "2717ec40",
   "metadata": {},
   "outputs": [
    {
     "name": "stdout",
     "output_type": "stream",
     "text": [
      "{'t-shirt': 1, 'mug': 2, 'hat': 3, 'book': 4, 'keychain': 5}\n"
     ]
    }
   ],
   "source": [
    "products = ['t-shirt', 'mug', 'hat', 'book', 'keychain']\n",
    "inventory = {}\n",
    "for product in products:\n",
    "    inventory[product] = int(input(f'Insert quantity available in inventory for \"{product}\":'))\n",
    "print(inventory)"
   ]
  },
  {
   "cell_type": "markdown",
   "id": "0499709d",
   "metadata": {},
   "source": [
    "2. Instead of asking the user to input the name of three products that a customer wants to order, do the following:\n",
    "    a. prompt the user to enter the name of a product that a customer wants to order.\n",
    "    b. add the product name to the customer_orders set.\n",
    "    c. ask the user of they want to add another product (yes/no)\n",
    "    d. continue the loop until the user does not want to add another product"
   ]
  },
  {
   "cell_type": "code",
   "execution_count": 7,
   "id": "15e647f5",
   "metadata": {},
   "outputs": [
    {
     "name": "stdout",
     "output_type": "stream",
     "text": [
      "your order: {'book', 'mug'}\n"
     ]
    }
   ],
   "source": [
    "customer_orders = set()\n",
    "\n",
    "add_another = 'yes'\n",
    "while add_another.lower() == 'yes':\n",
    "    user_input = input('please enter the name of a product you want to order:')\n",
    "    customer_orders.add(user_input)\n",
    "    add_another = input('Do you want to add another product (yes/no)?')\n",
    "else:\n",
    "    print(f'your order: {customer_orders}')"
   ]
  },
  {
   "cell_type": "markdown",
   "id": "39bd863e",
   "metadata": {},
   "source": [
    "3. Instead of updating the inventory by substracting 1 from the quantity of each product, only do it for the product that were ordered (those in 'customer_orders')"
   ]
  },
  {
   "cell_type": "code",
   "execution_count": 8,
   "id": "e2503a1c",
   "metadata": {},
   "outputs": [
    {
     "name": "stdout",
     "output_type": "stream",
     "text": [
      "{'t-shirt': 1, 'mug': 1, 'hat': 1, 'book': 3, 'keychain': 1}\n"
     ]
    }
   ],
   "source": [
    "for product, quantity in inventory.items():\n",
    "    if inventory[product] == 0:\n",
    "        inventory[product]\n",
    "        print(f'{product} out of stock')\n",
    "    else:\n",
    "        if product in customer_orders:\n",
    "            inventory[product] = quantity -1\n",
    "        else:\n",
    "            print(f'{product} out of stock')\n",
    "print(inventory)"
   ]
  }
 ],
 "metadata": {
  "kernelspec": {
   "display_name": "Python 3 (ipykernel)",
   "language": "python",
   "name": "python3"
  },
  "language_info": {
   "codemirror_mode": {
    "name": "ipython",
    "version": 3
   },
   "file_extension": ".py",
   "mimetype": "text/x-python",
   "name": "python",
   "nbconvert_exporter": "python",
   "pygments_lexer": "ipython3",
   "version": "3.9.19"
  }
 },
 "nbformat": 4,
 "nbformat_minor": 5
}
